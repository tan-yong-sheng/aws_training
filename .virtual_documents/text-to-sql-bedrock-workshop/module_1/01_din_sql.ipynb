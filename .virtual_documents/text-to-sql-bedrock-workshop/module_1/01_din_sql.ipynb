









































get_ipython().getoutput("python -m ensurepip --upgrade")
get_ipython().getoutput("pip install "sqlalchemy" --quiet")
get_ipython().getoutput("pip install "boto3~=1.34"  --quiet")
get_ipython().getoutput("pip install "jinja2" --quiet")
get_ipython().getoutput("pip install "botocore" --quiet")
get_ipython().getoutput("pip install "pandas" --quiet")
get_ipython().getoutput("pip install "PyAthena" --quiet")
get_ipython().getoutput("pip install "faiss-cpu" --quiet")





import boto3
import sys

sys.path.append('../')
from libs.din_sql import din_sql_lib as dsl








ATHENA_RESULTS_S3_LOCATION = "<workshop bucket name>" # available in cloudformation outputs
ATHENA_CATALOG_NAME = "<athena catalog name>" # available in cloudformation outputs
DB_NAME = "tpcds1"





din_sql = dsl.DIN_SQL(bedrock_model_id='anthropic.claude-v2')





din_sql.athena_connect(catalog_name=ATHENA_CATALOG_NAME, 
               db_name=DB_NAME, 
               s3_prefix=ATHENA_RESULTS_S3_LOCATION)








get_ipython().getoutput("head ../libs/din_sql/prompt_templates/schema_linking_prompt.txt.jinja")


return_sql= din_sql.find_fields(db_name=DB_NAME)
print(return_sql)





question = "Which customer spent the most money in the web store?"

schema_links_prompt = din_sql.schema_linking_prompt_maker(question, DB_NAME)
print(schema_links_prompt)





word_in_mouth_schema_link = f'A. Let’s think step by step. In the question "{question}", we are asked:'





schema_links = din_sql.llm_generation(
                    schema_links_prompt,
                    stop_sequences=['</links>'],
                    word_in_mouth=word_in_mouth_schema_link
                    )
print(f"{word_in_mouth_schema_link}{schema_links}")





links = schema_links.split('<links>')[1].replace('\n','')
links








get_ipython().getoutput("head ../libs/din_sql/prompt_templates/classification_prompt.txt.jinja")





word_in_mouth_classify = "A: Let’s think step by step."
classification = din_sql.llm_generation(
    prompt=din_sql.classification_prompt_maker(question, DB_NAME, links),
    word_in_mouth=word_in_mouth_classify
    )
print(f"{word_in_mouth_classify}{classification}")





predicted_class = classification.split("<label>")[1].split("</label>")[0].strip()








get_ipython().getoutput("head ../libs/din_sql/prompt_templates/medium_prompt.txt.jinja")





sql_tag_start='```sql'
word_in_mouth_medium_prompt = f"SQL: {sql_tag_start}"
sql_qry = din_sql.llm_generation(
                    prompt=din_sql.medium_prompt_maker(
                        test_sample_text=question, 
                        database=DB_NAME, 
                        schema_links=links,
                        sql_tag_start=sql_tag_start,
                        sql_tag_end='```'),
                    stop_sequences=['</example>'],
                    word_in_mouth=word_in_mouth_medium_prompt
                    )
print(f"{word_in_mouth_medium_prompt}{sql_qry}")





SQL = sql_qry.split('```')[0]
print(f"{SQL}")








import pandas as pd
result_set = din_sql.query(SQL)
pd.DataFrame(result_set)





validation_query = """
    SELECT "c"."c_customer_sk"
    , "c"."c_first_name"
    , "c"."c_last_name"
    , SUM("ws"."ws_ext_list_price") as total_sales
    FROM "customer" "c" 
    JOIN "web_sales" "ws" 
        ON "ws"."ws_bill_customer_sk" = "c"."c_customer_sk"   
    GROUP BY "c"."c_customer_sk"
    , "c"."c_first_name"
    , "c"."c_last_name"
    ORDER BY total_sales desc
    limit 10
"""
validation_set = din_sql.query(validation_query)
pd.DataFrame(validation_set)











get_ipython().getoutput("head ../libs/din_sql/prompt_templates/clean_query_prompt.txt.jinja")





revised_sql = din_sql.debugger_generation(
            prompt=din_sql.debugger(question, DB_NAME, SQL, sql_dialect='presto')
            ).replace("\n", " ")
print(f"{revised_sql}")





SQL = revised_sql.split('```sql')[1].split('```')[0].strip()
print(f"{SQL}")








question = 'What year had the highest catalog sales?'

#get schema links
schema_links_prompt = din_sql.schema_linking_prompt_maker(question, DB_NAME)
schema_links = din_sql.llm_generation(
                    schema_links_prompt,
                    stop_sequences=['</links>'],
                    word_in_mouth=word_in_mouth_schema_link
                    )
print(f"{word_in_mouth_schema_link}{schema_links}")
print(schema_links)
links = schema_links.split('<links>')[1].replace('\n','')

# classify and decompose
word_in_mouth_classify = "A: Let’s think step by step."
classification = din_sql.llm_generation(
    prompt=din_sql.classification_prompt_maker(question, DB_NAME, links),
    word_in_mouth=word_in_mouth_classify
    )
print(f"{word_in_mouth_classify}{classification}")
predicted_class = classification.split("<label>")[1].split("</label>")[0].strip()

# generate SQL
sql_tag_start='```sql'
word_in_mouth_medium_prompt = f"SQL: {sql_tag_start}"
sql_qry = din_sql.llm_generation(
                    prompt=din_sql.medium_prompt_maker(
                        test_sample_text=question, 
                        database=DB_NAME, 
                        schema_links=links,
                        sql_tag_start=sql_tag_start,
                        sql_tag_end='```'),
                    stop_sequences=['</example>'],
                    word_in_mouth=word_in_mouth_medium_prompt
                    )
print(f"{word_in_mouth_medium_prompt}{sql_qry}")
SQL = sql_qry.split('```')[0].strip()


pd.DataFrame(din_sql.query(SQL))





#self correction
revised_sql = din_sql.debugger_generation(
            prompt=din_sql.debugger(question, DB_NAME, SQL, sql_dialect='presto')
            ).replace("\n", " ")
print(f"{revised_sql}")
SQL = revised_sql.split('```sql')[1].split('```')[0].strip()
print(f"{SQL}")

# see results
result_set = pd.DataFrame(din_sql.query(SQL))
result_set








word_in_mouth_hard_prompt = f'''A: Let's think step by step. "{question}" can be solved by knowing the answer to the following sub-question "{{sub_questions}}".
The SQL query for the sub-question "'''
word_in_mouth_easy_prompt = f"SQL: {sql_tag_start}"
