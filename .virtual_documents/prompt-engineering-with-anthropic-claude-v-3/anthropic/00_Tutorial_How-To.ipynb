





get_ipython().run_line_magic("pip", " install -qU pip")
get_ipython().run_line_magic("pip", " install -qr ../requirements.txt")





# restart kernel
from IPython.core.display import HTML
HTML("<script>Jupyter.notebook.kernel.restart()</script>")








import boto3
session = boto3.Session() # create a boto3 session to dynamically get and set the region name
AWS_REGION = session.region_name
print("AWS Region:", AWS_REGION)
MODEL_NAME = "anthropic.claude-3-haiku-20240307-v1:0"

get_ipython().run_line_magic("store", " MODEL_NAME")
get_ipython().run_line_magic("store", " AWS_REGION")





from anthropic import AnthropicBedrock

client = AnthropicBedrock(aws_region=AWS_REGION)

def get_completion(prompt, system=''):
    message = client.messages.create(
        model=MODEL_NAME,
        max_tokens=2000,
        temperature=0.0,
        messages=[
          {"role": "user", "content": prompt}
        ],
        system=system
    )
    return message.content[0].text





# Prompt
prompt = "Hello, Claude!"

# Get Claude's response
print(get_completion(prompt))



